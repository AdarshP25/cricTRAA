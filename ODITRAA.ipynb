{
 "cells": [
  {
   "cell_type": "code",
   "id": "initial_id",
   "metadata": {
    "collapsed": true,
    "ExecuteTime": {
     "end_time": "2024-12-31T18:43:04.600561Z",
     "start_time": "2024-12-31T18:43:00.368068Z"
    }
   },
   "source": [
    "import pandas as pd\n",
    "import numpy as np\n",
    "import json\n",
    "import os\n",
    "import matplotlib.pyplot as plt\n",
    "\n",
    "directory = 'data/odis_json'\n",
    "over = []\n",
    "wickets_left = []\n",
    "batter_runs = []\n",
    "total_runs = []\n",
    "batter = []\n",
    "bowler = []\n",
    "season_list = []\n",
    "\n",
    "\n",
    "for filename in os.listdir(directory):\n",
    "    f = os.path.join(directory, filename)\n",
    "    if os.path.isfile(f) and '.json' in f:\n",
    "        jsonFile = json.load(open(f))\n",
    "        season = str(jsonFile['info']['season'])\n",
    "        for inning in jsonFile['innings']:\n",
    "            current_wickets_left = 10\n",
    "            for o in inning['overs']:\n",
    "                current_over = o['over']\n",
    "                for delivery in o['deliveries']:\n",
    "                    over.append(current_over)\n",
    "                    wickets_left.append(current_wickets_left)\n",
    "                    batter_runs.append(delivery['runs']['batter'])\n",
    "                    total_runs.append(delivery['runs']['total'])\n",
    "                    batter.append(delivery['batter'])\n",
    "                    bowler.append(delivery['bowler'])\n",
    "                    season_list.append(season)\n",
    "                    if 'wickets' in delivery:\n",
    "                        current_wickets_left -= len(delivery['wickets'])\n",
    "\n",
    "runs = pd.DataFrame()\n",
    "runs['over'] = over\n",
    "runs['wickets_left'] = wickets_left\n",
    "runs['batter_runs'] = batter_runs\n",
    "runs['total_runs'] = total_runs\n",
    "runs['batter'] = batter\n",
    "runs['bowler'] = bowler\n",
    "runs['season'] = season_list"
   ],
   "outputs": [],
   "execution_count": 8
  },
  {
   "metadata": {
    "ExecuteTime": {
     "end_time": "2024-12-31T18:43:07.507880Z",
     "start_time": "2024-12-31T18:43:04.605092Z"
    }
   },
   "cell_type": "code",
   "source": [
    "import seaborn as sns\n",
    "\n",
    "mat = np.empty((50, 10))\n",
    "for over in range(50):\n",
    "    for wickets_left in range(10):\n",
    "        if len(runs[(runs['over'] == over) & (runs['wickets_left'] == wickets_left + 1)]) > 0:\n",
    "            mat[over, wickets_left] = runs[(runs['over'] == over) & (runs['wickets_left'] == wickets_left + 1)]['total_runs'].mean()\n",
    "        else:\n",
    "            mat[over, wickets_left] = np.NaN\n",
    "\n",
    "\n",
    "data = pd.DataFrame(mat)\n",
    "data.columns = range(1, 11)\n",
    "data = data.rename_axis('over', axis=0).rename_axis('wickets remaining', axis=1)\n",
    "\n",
    "ax = sns.heatmap(data, fmt=\".2f\", cmap=\"YlGnBu\", square = False)\n",
    "plt.xticks(np.arange(0.5, 10.5, 1), np.arange(1, 11, 1))\n",
    "plt.yticks(np.arange(0.5, 50.5, 2), np.arange(0, 50, 2))\n",
    "plt.title('Mean Runs')\n",
    "\n",
    "plt.show()\n",
    "expectancy_matrix = data.to_numpy()"
   ],
   "id": "dca348b0a2001e82",
   "outputs": [
    {
     "data": {
      "text/plain": [
       "<Figure size 640x480 with 2 Axes>"
      ],
      "image/png": "[encoded data removed]"
     },
     "metadata": {},
     "output_type": "display_data"
    }
   ],
   "execution_count": 9
  },
  {
   "metadata": {
    "ExecuteTime": {
     "end_time": "2024-12-31T18:43:11.648546Z",
     "start_time": "2024-12-31T18:43:07.523580Z"
    }
   },
   "cell_type": "code",
   "source": [
    "expected_runs_per_play = []\n",
    "runs['expected_runs'] = runs.apply((lambda row: expectancy_matrix[row['over']][row['wickets_left'] - 1]), axis=1)\n",
    "runs['runs_above_average'] = runs['total_runs'] - runs['expected_runs']"
   ],
   "id": "935ce0ab2f773250",
   "outputs": [],
   "execution_count": 10
  },
  {
   "metadata": {
    "ExecuteTime": {
     "end_time": "2024-12-31T18:43:12.019234Z",
     "start_time": "2024-12-31T18:43:11.677089Z"
    }
   },
   "cell_type": "code",
   "source": [
    "TR_above_average_batter = runs.groupby(['batter', 'season'])['runs_above_average'].mean() * runs.groupby(['batter', 'season']).size()\n",
    "TR_above_average_batter = TR_above_average_batter.reset_index()\n",
    "TR_above_average_batter.rename(columns={0: 'BaTRAA'}, inplace = True)\n",
    "TR_above_average_batter.sort_values(by = 'BaTRAA', ascending = False)"
   ],
   "id": "488743074e266c01",
   "outputs": [
    {
     "data": {
      "text/plain": [
       "               batter   season      BaTRAA\n",
       "366    AB de Villiers  2014/15  406.188370\n",
       "11427        V Sehwag  2008/09  318.929322\n",
       "2465        DA Warner  2016/17  289.201260\n",
       "2474        DA Warner  2023/24  284.797016\n",
       "1439      BB McCullum  2014/15  277.925581\n",
       "...               ...      ...         ...\n",
       "8554         R Dravid  2002/03 -148.737719\n",
       "9898        SM Katich  2005/06 -178.437020\n",
       "9256    S Chanderpaul  2006/07 -179.360074\n",
       "3253    Fargana Hoque  2023/24 -212.991198\n",
       "4416         J Little  2021/22         NaN\n",
       "\n",
       "[11906 rows x 3 columns]"
      ],
      "text/html": [
       "<div>\n",
       "<style scoped>\n",
       "    .dataframe tbody tr th:only-of-type {\n",
       "        vertical-align: middle;\n",
       "    }\n",
       "\n",
       "    .dataframe tbody tr th {\n",
       "        vertical-align: top;\n",
       "    }\n",
       "\n",
       "    .dataframe thead th {\n",
       "        text-align: right;\n",
       "    }\n",
       "</style>\n",
       "<table border=\"1\" class=\"dataframe\">\n",
       "  <thead>\n",
       "    <tr style=\"text-align: right;\">\n",
       "      <th></th>\n",
       "      <th>batter</th>\n",
       "      <th>season</th>\n",
       "      <th>BaTRAA</th>\n",
       "    </tr>\n",
       "  </thead>\n",
       "  <tbody>\n",
       "    <tr>\n",
       "      <th>366</th>\n",
       "      <td>AB de Villiers</td>\n",
       "      <td>2014/15</td>\n",
       "      <td>406.188370</td>\n",
       "    </tr>\n",
       "    <tr>\n",
       "      <th>11427</th>\n",
       "      <td>V Sehwag</td>\n",
       "      <td>2008/09</td>\n",
       "      <td>318.929322</td>\n",
       "    </tr>\n",
       "    <tr>\n",
       "      <th>2465</th>\n",
       "      <td>DA Warner</td>\n",
       "      <td>2016/17</td>\n",
       "      <td>289.201260</td>\n",
       "    </tr>\n",
       "    <tr>\n",
       "      <th>2474</th>\n",
       "      <td>DA Warner</td>\n",
       "      <td>2023/24</td>\n",
       "      <td>284.797016</td>\n",
       "    </tr>\n",
       "    <tr>\n",
       "      <th>1439</th>\n",
       "      <td>BB McCullum</td>\n",
       "      <td>2014/15</td>\n",
       "      <td>277.925581</td>\n",
       "    </tr>\n",
       "    <tr>\n",
       "      <th>...</th>\n",
       "      <td>...</td>\n",
       "      <td>...</td>\n",
       "      <td>...</td>\n",
       "    </tr>\n",
       "    <tr>\n",
       "      <th>8554</th>\n",
       "      <td>R Dravid</td>\n",
       "      <td>2002/03</td>\n",
       "      <td>-148.737719</td>\n",
       "    </tr>\n",
       "    <tr>\n",
       "      <th>9898</th>\n",
       "      <td>SM Katich</td>\n",
       "      <td>2005/06</td>\n",
       "      <td>-178.437020</td>\n",
       "    </tr>\n",
       "    <tr>\n",
       "      <th>9256</th>\n",
       "      <td>S Chanderpaul</td>\n",
       "      <td>2006/07</td>\n",
       "      <td>-179.360074</td>\n",
       "    </tr>\n",
       "    <tr>\n",
       "      <th>3253</th>\n",
       "      <td>Fargana Hoque</td>\n",
       "      <td>2023/24</td>\n",
       "      <td>-212.991198</td>\n",
       "    </tr>\n",
       "    <tr>\n",
       "      <th>4416</th>\n",
       "      <td>J Little</td>\n",
       "      <td>2021/22</td>\n",
       "      <td>NaN</td>\n",
       "    </tr>\n",
       "  </tbody>\n",
       "</table>\n",
       "<p>11906 rows × 3 columns</p>\n",
       "</div>"
      ]
     },
     "execution_count": 11,
     "metadata": {},
     "output_type": "execute_result"
    }
   ],
   "execution_count": 11
  },
  {
   "metadata": {
    "ExecuteTime": {
     "end_time": "2024-12-31T18:43:12.412745Z",
     "start_time": "2024-12-31T18:43:12.038810Z"
    }
   },
   "cell_type": "code",
   "source": [
    "TR_above_average_bowler = -1 * runs.groupby(['bowler', 'season'])['runs_above_average'].mean() * runs.groupby(['bowler', 'season']).size()\n",
    "TR_above_average_bowler = TR_above_average_bowler.reset_index()\n",
    "TR_above_average_bowler.rename(columns={0: 'BoTRAA'}, inplace = True)\n",
    "TR_above_average_bowler.sort_values(by = 'BoTRAA', ascending = False)"
   ],
   "id": "ff9f6f9efdb7d800",
   "outputs": [
    {
     "data": {
      "text/plain": [
       "              bowler   season      BoTRAA\n",
       "6970      SM Pollock  2006/07  266.126992\n",
       "6795         SE Bond  2006/07  210.506102\n",
       "7273     Saeed Ajmal  2011/12  207.605232\n",
       "4432  M Muralitharan  2002/03  206.792806\n",
       "7277     Saeed Ajmal  2013/14  196.724906\n",
       "...              ...      ...         ...\n",
       "4718  MJ McClenaghan  2013/14 -143.935032\n",
       "3073        J Little     2023 -191.556759\n",
       "4358        M Jansen  2023/24 -201.077088\n",
       "5432     NLTC Perera  2014/15 -224.058062\n",
       "2320       G Coetzee  2023/24 -232.356611\n",
       "\n",
       "[8357 rows x 3 columns]"
      ],
      "text/html": [
       "<div>\n",
       "<style scoped>\n",
       "    .dataframe tbody tr th:only-of-type {\n",
       "        vertical-align: middle;\n",
       "    }\n",
       "\n",
       "    .dataframe tbody tr th {\n",
       "        vertical-align: top;\n",
       "    }\n",
       "\n",
       "    .dataframe thead th {\n",
       "        text-align: right;\n",
       "    }\n",
       "</style>\n",
       "<table border=\"1\" class=\"dataframe\">\n",
       "  <thead>\n",
       "    <tr style=\"text-align: right;\">\n",
       "      <th></th>\n",
       "      <th>bowler</th>\n",
       "      <th>season</th>\n",
       "      <th>BoTRAA</th>\n",
       "    </tr>\n",
       "  </thead>\n",
       "  <tbody>\n",
       "    <tr>\n",
       "      <th>6970</th>\n",
       "      <td>SM Pollock</td>\n",
       "      <td>2006/07</td>\n",
       "      <td>266.126992</td>\n",
       "    </tr>\n",
       "    <tr>\n",
       "      <th>6795</th>\n",
       "      <td>SE Bond</td>\n",
       "      <td>2006/07</td>\n",
       "      <td>210.506102</td>\n",
       "    </tr>\n",
       "    <tr>\n",
       "      <th>7273</th>\n",
       "      <td>Saeed Ajmal</td>\n",
       "      <td>2011/12</td>\n",
       "      <td>207.605232</td>\n",
       "    </tr>\n",
       "    <tr>\n",
       "      <th>4432</th>\n",
       "      <td>M Muralitharan</td>\n",
       "      <td>2002/03</td>\n",
       "      <td>206.792806</td>\n",
       "    </tr>\n",
       "    <tr>\n",
       "      <th>7277</th>\n",
       "      <td>Saeed Ajmal</td>\n",
       "      <td>2013/14</td>\n",
       "      <td>196.724906</td>\n",
       "    </tr>\n",
       "    <tr>\n",
       "      <th>...</th>\n",
       "      <td>...</td>\n",
       "      <td>...</td>\n",
       "      <td>...</td>\n",
       "    </tr>\n",
       "    <tr>\n",
       "      <th>4718</th>\n",
       "      <td>MJ McClenaghan</td>\n",
       "      <td>2013/14</td>\n",
       "      <td>-143.935032</td>\n",
       "    </tr>\n",
       "    <tr>\n",
       "      <th>3073</th>\n",
       "      <td>J Little</td>\n",
       "      <td>2023</td>\n",
       "      <td>-191.556759</td>\n",
       "    </tr>\n",
       "    <tr>\n",
       "      <th>4358</th>\n",
       "      <td>M Jansen</td>\n",
       "      <td>2023/24</td>\n",
       "      <td>-201.077088</td>\n",
       "    </tr>\n",
       "    <tr>\n",
       "      <th>5432</th>\n",
       "      <td>NLTC Perera</td>\n",
       "      <td>2014/15</td>\n",
       "      <td>-224.058062</td>\n",
       "    </tr>\n",
       "    <tr>\n",
       "      <th>2320</th>\n",
       "      <td>G Coetzee</td>\n",
       "      <td>2023/24</td>\n",
       "      <td>-232.356611</td>\n",
       "    </tr>\n",
       "  </tbody>\n",
       "</table>\n",
       "<p>8357 rows × 3 columns</p>\n",
       "</div>"
      ]
     },
     "execution_count": 12,
     "metadata": {},
     "output_type": "execute_result"
    }
   ],
   "execution_count": 12
  },
  {
   "metadata": {
    "ExecuteTime": {
     "end_time": "2024-12-31T18:43:12.653585Z",
     "start_time": "2024-12-31T18:43:12.538341Z"
    }
   },
   "cell_type": "code",
   "source": [
    "from scipy.stats import norm\n",
    "\n",
    "to_plot = TR_above_average_batter['BaTRAA']\n",
    "plt.hist(to_plot, bins = 25, density = True)\n",
    "\n",
    "mu, std = norm.fit(to_plot)\n",
    "\n",
    "xmin, xmax = plt.xlim()\n",
    "x = np.linspace(xmin, xmax, 100)\n",
    "\n",
    "pdf_scaled = norm.pdf(x, mu, std)\n",
    "\n",
    "plt.plot(x, pdf_scaled, 'k', linewidth=2)\n",
    "\n",
    "plt.title('Freq of BaTRAA')\n",
    "plt.xlabel('BaTRAA')\n",
    "plt.ylabel('Frequency')\n",
    "\n",
    "plt.show()"
   ],
   "id": "156a2223ab67a9ba",
   "outputs": [
    {
     "ename": "ValueError",
     "evalue": "The data contains non-finite values.",
     "output_type": "error",
     "traceback": [
      "\u001B[0;31m---------------------------------------------------------------------------\u001B[0m",
      "\u001B[0;31mValueError\u001B[0m                                Traceback (most recent call last)",
      "\u001B[0;32m/var/folders/09/97rwy27s2q55hjl6174nt47h0000gn/T/ipykernel_41525/355083303.py\u001B[0m in \u001B[0;36m?\u001B[0;34m()\u001B[0m\n\u001B[1;32m      2\u001B[0m \u001B[0;34m\u001B[0m\u001B[0m\n\u001B[1;32m      3\u001B[0m \u001B[0mto_plot\u001B[0m \u001B[0;34m=\u001B[0m \u001B[0mTR_above_average_batter\u001B[0m\u001B[0;34m[\u001B[0m\u001B[0;34m'BaTRAA'\u001B[0m\u001B[0;34m]\u001B[0m\u001B[0;34m\u001B[0m\u001B[0;34m\u001B[0m\u001B[0m\n\u001B[1;32m      4\u001B[0m \u001B[0mplt\u001B[0m\u001B[0;34m.\u001B[0m\u001B[0mhist\u001B[0m\u001B[0;34m(\u001B[0m\u001B[0mto_plot\u001B[0m\u001B[0;34m,\u001B[0m \u001B[0mbins\u001B[0m \u001B[0;34m=\u001B[0m \u001B[0;36m25\u001B[0m\u001B[0;34m,\u001B[0m \u001B[0mdensity\u001B[0m \u001B[0;34m=\u001B[0m \u001B[0;32mTrue\u001B[0m\u001B[0;34m)\u001B[0m\u001B[0;34m\u001B[0m\u001B[0;34m\u001B[0m\u001B[0m\n\u001B[1;32m      5\u001B[0m \u001B[0;34m\u001B[0m\u001B[0m\n\u001B[0;32m----> 6\u001B[0;31m \u001B[0mmu\u001B[0m\u001B[0;34m,\u001B[0m \u001B[0mstd\u001B[0m \u001B[0;34m=\u001B[0m \u001B[0mnorm\u001B[0m\u001B[0;34m.\u001B[0m\u001B[0mfit\u001B[0m\u001B[0;34m(\u001B[0m\u001B[0mto_plot\u001B[0m\u001B[0;34m)\u001B[0m\u001B[0;34m\u001B[0m\u001B[0;34m\u001B[0m\u001B[0m\n\u001B[0m\u001B[1;32m      7\u001B[0m \u001B[0;34m\u001B[0m\u001B[0m\n\u001B[1;32m      8\u001B[0m \u001B[0mxmin\u001B[0m\u001B[0;34m,\u001B[0m \u001B[0mxmax\u001B[0m \u001B[0;34m=\u001B[0m \u001B[0mplt\u001B[0m\u001B[0;34m.\u001B[0m\u001B[0mxlim\u001B[0m\u001B[0;34m(\u001B[0m\u001B[0;34m)\u001B[0m\u001B[0;34m\u001B[0m\u001B[0;34m\u001B[0m\u001B[0m\n\u001B[1;32m      9\u001B[0m \u001B[0mx\u001B[0m \u001B[0;34m=\u001B[0m \u001B[0mnp\u001B[0m\u001B[0;34m.\u001B[0m\u001B[0mlinspace\u001B[0m\u001B[0;34m(\u001B[0m\u001B[0mxmin\u001B[0m\u001B[0;34m,\u001B[0m \u001B[0mxmax\u001B[0m\u001B[0;34m,\u001B[0m \u001B[0;36m100\u001B[0m\u001B[0;34m)\u001B[0m\u001B[0;34m\u001B[0m\u001B[0;34m\u001B[0m\u001B[0m\n",
      "\u001B[0;32m/Library/Frameworks/Python.framework/Versions/3.11/lib/python3.11/site-packages/scipy/stats/_continuous_distns.py\u001B[0m in \u001B[0;36m?\u001B[0;34m(self, data, *args, **kwds)\u001B[0m\n\u001B[1;32m     70\u001B[0m                 \u001B[0;31m# data is an instance of CensoredData, but actually holds\u001B[0m\u001B[0;34m\u001B[0m\u001B[0;34m\u001B[0m\u001B[0m\n\u001B[1;32m     71\u001B[0m                 \u001B[0;31m# no censored values, so replace it with the array of\u001B[0m\u001B[0;34m\u001B[0m\u001B[0;34m\u001B[0m\u001B[0m\n\u001B[1;32m     72\u001B[0m                 \u001B[0;31m# uncensored values.\u001B[0m\u001B[0;34m\u001B[0m\u001B[0;34m\u001B[0m\u001B[0m\n\u001B[1;32m     73\u001B[0m                 \u001B[0mdata\u001B[0m \u001B[0;34m=\u001B[0m \u001B[0mdata\u001B[0m\u001B[0;34m.\u001B[0m\u001B[0m_uncensored\u001B[0m\u001B[0;34m\u001B[0m\u001B[0;34m\u001B[0m\u001B[0m\n\u001B[0;32m---> 74\u001B[0;31m             \u001B[0;32mreturn\u001B[0m \u001B[0mfun\u001B[0m\u001B[0;34m(\u001B[0m\u001B[0mself\u001B[0m\u001B[0;34m,\u001B[0m \u001B[0mdata\u001B[0m\u001B[0;34m,\u001B[0m \u001B[0;34m*\u001B[0m\u001B[0margs\u001B[0m\u001B[0;34m,\u001B[0m \u001B[0;34m**\u001B[0m\u001B[0mkwds\u001B[0m\u001B[0;34m)\u001B[0m\u001B[0;34m\u001B[0m\u001B[0;34m\u001B[0m\u001B[0m\n\u001B[0m",
      "\u001B[0;32m/Library/Frameworks/Python.framework/Versions/3.11/lib/python3.11/site-packages/scipy/stats/_continuous_distns.py\u001B[0m in \u001B[0;36m?\u001B[0;34m(self, data, **kwds)\u001B[0m\n\u001B[1;32m    412\u001B[0m \u001B[0;34m\u001B[0m\u001B[0m\n\u001B[1;32m    413\u001B[0m         \u001B[0mdata\u001B[0m \u001B[0;34m=\u001B[0m \u001B[0mnp\u001B[0m\u001B[0;34m.\u001B[0m\u001B[0masarray\u001B[0m\u001B[0;34m(\u001B[0m\u001B[0mdata\u001B[0m\u001B[0;34m)\u001B[0m\u001B[0;34m\u001B[0m\u001B[0;34m\u001B[0m\u001B[0m\n\u001B[1;32m    414\u001B[0m \u001B[0;34m\u001B[0m\u001B[0m\n\u001B[1;32m    415\u001B[0m         \u001B[0;32mif\u001B[0m \u001B[0;32mnot\u001B[0m \u001B[0mnp\u001B[0m\u001B[0;34m.\u001B[0m\u001B[0misfinite\u001B[0m\u001B[0;34m(\u001B[0m\u001B[0mdata\u001B[0m\u001B[0;34m)\u001B[0m\u001B[0;34m.\u001B[0m\u001B[0mall\u001B[0m\u001B[0;34m(\u001B[0m\u001B[0;34m)\u001B[0m\u001B[0;34m:\u001B[0m\u001B[0;34m\u001B[0m\u001B[0;34m\u001B[0m\u001B[0m\n\u001B[0;32m--> 416\u001B[0;31m             \u001B[0;32mraise\u001B[0m \u001B[0mValueError\u001B[0m\u001B[0;34m(\u001B[0m\u001B[0;34m\"The data contains non-finite values.\"\u001B[0m\u001B[0;34m)\u001B[0m\u001B[0;34m\u001B[0m\u001B[0;34m\u001B[0m\u001B[0m\n\u001B[0m\u001B[1;32m    417\u001B[0m \u001B[0;34m\u001B[0m\u001B[0m\n\u001B[1;32m    418\u001B[0m         \u001B[0;32mif\u001B[0m \u001B[0mfloc\u001B[0m \u001B[0;32mis\u001B[0m \u001B[0;32mNone\u001B[0m\u001B[0;34m:\u001B[0m\u001B[0;34m\u001B[0m\u001B[0;34m\u001B[0m\u001B[0m\n\u001B[1;32m    419\u001B[0m             \u001B[0mloc\u001B[0m \u001B[0;34m=\u001B[0m \u001B[0mdata\u001B[0m\u001B[0;34m.\u001B[0m\u001B[0mmean\u001B[0m\u001B[0;34m(\u001B[0m\u001B[0;34m)\u001B[0m\u001B[0;34m\u001B[0m\u001B[0;34m\u001B[0m\u001B[0m\n",
      "\u001B[0;31mValueError\u001B[0m: The data contains non-finite values."
     ]
    },
    {
     "data": {
      "text/plain": [
       "<Figure size 640x480 with 1 Axes>"
      ],
      "image/png": "[encoded data removed]"
     },
     "metadata": {},
     "output_type": "display_data"
    }
   ],
   "execution_count": 13
  },
  {
   "metadata": {
    "ExecuteTime": {
     "end_time": "2024-12-31T18:43:12.656408Z",
     "start_time": "2024-12-31T17:52:46.593559Z"
    }
   },
   "cell_type": "code",
   "source": [
    "to_plot = TR_above_average_bowler['BoTRAA']\n",
    "plt.hist(to_plot, bins = 25, density = True)\n",
    "\n",
    "mu, std = norm.fit(to_plot)\n",
    "\n",
    "xmin, xmax = plt.xlim()\n",
    "x = np.linspace(xmin, xmax, 100)\n",
    "\n",
    "pdf_scaled = norm.pdf(x, mu, std)\n",
    "\n",
    "plt.plot(x, pdf_scaled, 'k', linewidth=2)\n",
    "\n",
    "plt.title('Freq of BoTRAA')\n",
    "plt.xlabel('BoTRAA')\n",
    "plt.ylabel('Frequency')\n",
    "\n",
    "plt.show()"
   ],
   "id": "4d2a400ebe3fb9ad",
   "outputs": [
    {
     "data": {
      "text/plain": [
       "<Figure size 640x480 with 1 Axes>"
      ],
      "image/png": "[encoded data removed]"
     },
     "metadata": {},
     "output_type": "display_data"
    }
   ],
   "execution_count": 7
  },
  {
   "metadata": {
    "ExecuteTime": {
     "end_time": "2024-12-31T18:43:12.656650Z",
     "start_time": "2024-12-31T17:52:46.708655Z"
    }
   },
   "cell_type": "code",
   "source": "",
   "id": "1c48ded3fa956886",
   "outputs": [],
   "execution_count": null
  }
 ],
 "metadata": {
  "kernelspec": {
   "display_name": "Python 3",
   "language": "python",
   "name": "python3"
  },
  "language_info": {
   "codemirror_mode": {
    "name": "ipython",
    "version": 2
   },
   "file_extension": ".py",
   "mimetype": "text/x-python",
   "name": "python",
   "nbconvert_exporter": "python",
   "pygments_lexer": "ipython2",
   "version": "2.7.6"
  }
 },
 "nbformat": 4,
 "nbformat_minor": 5
}
